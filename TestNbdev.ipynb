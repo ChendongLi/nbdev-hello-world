{
 "cells": [
  {
   "cell_type": "markdown",
   "id": "74746eb8-110c-4b2a-b3a6-5b4f65e4fbbf",
   "metadata": {},
   "source": [
    "### NbDev Hello World"
   ]
  },
  {
   "cell_type": "code",
   "execution_count": null,
   "id": "ea8547e9-8f40-4ee8-a4aa-d4d792436b48",
   "metadata": {},
   "outputs": [],
   "source": []
  }
 ],
 "metadata": {
  "environment": {
   "kernel": "env_iacv",
   "name": "tf2-gpu.2-11.m109",
   "type": "gcloud",
   "uri": "gcr.io/deeplearning-platform-release/tf2-gpu.2-11:m109"
  },
  "kernelspec": {
   "display_name": "env_iacv",
   "language": "python",
   "name": "env_iacv"
  },
  "language_info": {
   "codemirror_mode": {
    "name": "ipython",
    "version": 3
   },
   "file_extension": ".py",
   "mimetype": "text/x-python",
   "name": "python",
   "nbconvert_exporter": "python",
   "pygments_lexer": "ipython3",
   "version": "3.10.11"
  }
 },
 "nbformat": 4,
 "nbformat_minor": 5
}
